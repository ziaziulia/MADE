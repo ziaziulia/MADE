{
 "cells": [
  {
   "cell_type": "markdown",
   "metadata": {},
   "source": [
    "# Задача по программированию на отброчном тесте для поступления в MADE от m@il.ru\n",
    "\n",
    "### На вход подаётся две строчки с числами. В первой строчке кол-во чисел, во второй эти числа в строку без пробелов.\n",
    "### Нужно вывести число с наибольшим колличеством делителей.\n",
    "\n",
    "## Мой код:"
   ]
  },
  {
   "cell_type": "code",
   "execution_count": 5,
   "metadata": {},
   "outputs": [
    {
     "name": "stdout",
     "output_type": "stream",
     "text": [
      "3\n",
      "5 9 77\n",
      "77\n"
     ]
    }
   ],
   "source": [
    "a = int(input())\n",
    "i = 0\n",
    "b = input().split()\n",
    "c = 0\n",
    "gg = 0\n",
    "w = 0\n",
    "while i < a:\n",
    "\tc = int(b[i])\n",
    "\tf = c\n",
    "\tg = 0\n",
    "\twhile c > 0:\n",
    "\t\td = f%c\n",
    "\t\tif d == 0:\n",
    "\t\t\tg += 1\n",
    "\t\t\tc = c-1\n",
    "\t\telse:\n",
    "\t\t\tc = c-1\n",
    "\tif g > gg:\n",
    "\t\tgg = g\n",
    "\t\tw = f\n",
    "\ti += 1\n",
    "print(w)"
   ]
  },
  {
   "cell_type": "code",
   "execution_count": null,
   "metadata": {},
   "outputs": [],
   "source": []
  }
 ],
 "metadata": {
  "kernelspec": {
   "display_name": "Python 3",
   "language": "python",
   "name": "python3"
  },
  "language_info": {
   "codemirror_mode": {
    "name": "ipython",
    "version": 3
   },
   "file_extension": ".py",
   "mimetype": "text/x-python",
   "name": "python",
   "nbconvert_exporter": "python",
   "pygments_lexer": "ipython3",
   "version": "3.7.3"
  }
 },
 "nbformat": 4,
 "nbformat_minor": 2
}
